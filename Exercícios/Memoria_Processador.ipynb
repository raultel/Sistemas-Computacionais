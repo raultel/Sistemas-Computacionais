{
  "nbformat": 4,
  "nbformat_minor": 0,
  "metadata": {
    "colab": {
      "name": "Memoria_Processador.ipynb",
      "provenance": [],
      "collapsed_sections": []
    },
    "kernelspec": {
      "name": "python3",
      "display_name": "Python 3"
    },
    "language_info": {
      "name": "python"
    }
  },
  "cells": [
    {
      "cell_type": "code",
      "execution_count": 1,
      "metadata": {
        "id": "BPGpwCNQqucJ"
      },
      "outputs": [],
      "source": [
        "import random"
      ]
    },
    {
      "cell_type": "code",
      "source": [
        "memoria = []\n",
        "tamanho = 65536\n",
        "for i in range(tamanho):\n",
        "  memoria.append(random.randint(0,256))"
      ],
      "metadata": {
        "id": "Lu-F2Wj4rbnp"
      },
      "execution_count": 21,
      "outputs": []
    },
    {
      "cell_type": "code",
      "source": [
        "rw = int(input('Valor de RW: '))\n",
        "if rw == 0:\n",
        "  endereco = int(input('Endereço da memoria: '))\n",
        "  print(memoria[endereco])\n",
        "if rw == 1:\n",
        "  endereco = int(input('Endereço da memoria: '))\n",
        "  valor = int(input('Valor que deseja inserir: '))\n",
        "  memoria[endereco] = valor"
      ],
      "metadata": {
        "colab": {
          "base_uri": "https://localhost:8080/"
        },
        "id": "voIq2eSQs_a1",
        "outputId": "6d685dcd-8ac5-4362-a18d-1ec44cba25de"
      },
      "execution_count": 22,
      "outputs": [
        {
          "output_type": "stream",
          "name": "stdout",
          "text": [
            "Valor de RW: 0\n",
            "Endereço da memoria: 25\n",
            "107\n"
          ]
        }
      ]
    }
  ]
}
