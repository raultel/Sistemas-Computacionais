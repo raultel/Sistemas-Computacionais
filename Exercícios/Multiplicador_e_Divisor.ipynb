{
  "nbformat": 4,
  "nbformat_minor": 0,
  "metadata": {
    "colab": {
      "name": "Multiplicador e Divisor",
      "provenance": [],
      "collapsed_sections": []
    },
    "kernelspec": {
      "name": "python3",
      "display_name": "Python 3"
    },
    "language_info": {
      "name": "python"
    }
  },
  "cells": [
    {
      "cell_type": "code",
      "source": [
        "def mult(n1, n2):\n",
        "  cont = 0\n",
        "  resultado = 0\n",
        "  while cont < n2:\n",
        "    cont = cont + 1\n",
        "    resultado = resultado + n1\n",
        "  return resultado"
      ],
      "metadata": {
        "id": "I3_lAiy8ojNc"
      },
      "execution_count": 12,
      "outputs": []
    },
    {
      "cell_type": "code",
      "source": [
        "mult(7,3)"
      ],
      "metadata": {
        "colab": {
          "base_uri": "https://localhost:8080/"
        },
        "id": "uCIwzhzSpGEb",
        "outputId": "de3b851f-6997-45f7-ffc1-3568ae734e57"
      },
      "execution_count": 17,
      "outputs": [
        {
          "output_type": "execute_result",
          "data": {
            "text/plain": [
              "21"
            ]
          },
          "metadata": {},
          "execution_count": 17
        }
      ]
    },
    {
      "cell_type": "code",
      "source": [
        "def div(dividendo, divisor):\n",
        "  resultado = 0\n",
        "  while dividendo >= divisor:\n",
        "    resultado = resultado + 1\n",
        "    dividendo = dividendo - divisor\n",
        "  return resultado"
      ],
      "metadata": {
        "id": "iDetLlv_pZt8"
      },
      "execution_count": 35,
      "outputs": []
    },
    {
      "cell_type": "code",
      "source": [
        "div(1024,8)"
      ],
      "metadata": {
        "colab": {
          "base_uri": "https://localhost:8080/"
        },
        "id": "1NbKf__epvek",
        "outputId": "284c5a92-b2e2-4357-c00b-4aec47260892"
      },
      "execution_count": 42,
      "outputs": [
        {
          "output_type": "execute_result",
          "data": {
            "text/plain": [
              "128"
            ]
          },
          "metadata": {},
          "execution_count": 42
        }
      ]
    }
  ]
}
