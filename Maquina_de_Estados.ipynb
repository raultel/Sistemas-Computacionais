{
  "nbformat": 4,
  "nbformat_minor": 0,
  "metadata": {
    "colab": {
      "name": "Maquina de Estados.ipynb",
      "provenance": [],
      "collapsed_sections": []
    },
    "kernelspec": {
      "name": "python3",
      "display_name": "Python 3"
    },
    "language_info": {
      "name": "python"
    }
  },
  "cells": [
    {
      "cell_type": "markdown",
      "source": [
        "# **Máquina de Estados do alarme de um carro**"
      ],
      "metadata": {
        "id": "6C0Okmf87QBC"
      }
    },
    {
      "cell_type": "code",
      "execution_count": 27,
      "metadata": {
        "id": "Ra_VVI5V7LKH"
      },
      "outputs": [],
      "source": [
        "buzina = 0\n",
        "luzVermelha = 0\n",
        "sensorPorta = 0\n",
        "reset = 0\n",
        "estado = 0\n",
        "botao = 0"
      ]
    },
    {
      "cell_type": "markdown",
      "source": [
        "**Logica de Transição**"
      ],
      "metadata": {
        "id": "82i9mho1An2B"
      }
    },
    {
      "cell_type": "code",
      "source": [
        "def transicao(reset, estado, botao, sensorPorta):\n",
        "  if reset == 1:\n",
        "    reset = 0\n",
        "    estado = 0\n",
        "  elif estado == 0 and botao == 1:\n",
        "    estado = 1\n",
        "    botao = 0\n",
        "  elif estado == 1 and botao == 1:\n",
        "    estado = 0\n",
        "    botao = 0\n",
        "  elif estado == 1 and sensorPorta == 1:\n",
        "    estado = 2\n",
        "  elif estado == 2 and botao == 1:\n",
        "    estado = 0\n",
        "    botao = 0\n",
        "  return estado, botao, reset"
      ],
      "metadata": {
        "id": "I3t31TTc_IlL"
      },
      "execution_count": 31,
      "outputs": []
    },
    {
      "cell_type": "markdown",
      "source": [
        "**Logica de Ação**"
      ],
      "metadata": {
        "id": "fKlB8vF8Avzw"
      }
    },
    {
      "cell_type": "code",
      "source": [
        "def acao(estado):\n",
        "  if estado == 0:\n",
        "    buzina = 0\n",
        "    luzVermelha = 0\n",
        "  if estado == 1:\n",
        "    buzina = 0\n",
        "    luzVermelha = 1\n",
        "  if estado == 2:\n",
        "    buzina = 1\n",
        "    luzVermelha = 1\n",
        "  return buzina, luzVermelha"
      ],
      "metadata": {
        "id": "OnMp-kp8ALYn"
      },
      "execution_count": 33,
      "outputs": []
    },
    {
      "cell_type": "code",
      "source": [
        "while sensorPorta != -1:\n",
        "  print('Estado atual: {}'.format(estado))\n",
        "  print('Buzina = {}, Luz Vermelha = {}'.format(buzina, luzVermelha))\n",
        "  \n",
        "  reset = int(input('Reset: '))\n",
        "  estado, botao, reset = transicao(reset, estado, botao, sensorPorta)\n",
        "  buzina, luzVermelha = acao(estado)\n",
        "  print('Estado atual: {}'.format(estado))\n",
        "\n",
        "  botao = int(input('Botao: '))\n",
        "  estado, botao, reset = transicao(reset, estado, botao, sensorPorta)\n",
        "  buzina, luzVermelha = acao(estado)\n",
        "  print('Estado atual: {}'.format(estado))\n",
        "\n",
        "  sensorPorta = int(input('Sensor da porta: '))\n",
        "  estado, botao, reset = transicao(reset, estado, botao, sensorPorta)\n",
        "  buzina, luzVermelha = acao(estado)"
      ],
      "metadata": {
        "colab": {
          "base_uri": "https://localhost:8080/"
        },
        "id": "2gRdV1FFAmu1",
        "outputId": "0fd7c8bb-b046-40b6-b4f7-62bf3754dc14"
      },
      "execution_count": 42,
      "outputs": [
        {
          "name": "stdout",
          "output_type": "stream",
          "text": [
            "Estado atual: 0\n",
            "Buzina = 0, Luz Vermelha = 0\n",
            "Reset: 1\n",
            "Estado atual: 0\n",
            "Botao: 1\n",
            "Estado atual: 1\n",
            "Sensor da porta: 1\n",
            "Estado atual: 2\n",
            "Buzina = 1, Luz Vermelha = 1\n",
            "Reset: 0\n",
            "Estado atual: 2\n",
            "Botao: 1\n",
            "Estado atual: 0\n",
            "Sensor da porta: 1\n",
            "Estado atual: 0\n",
            "Buzina = 0, Luz Vermelha = 0\n",
            "Reset: 0\n",
            "Estado atual: 0\n",
            "Botao: 1\n",
            "Estado atual: 1\n",
            "Sensor da porta: 1\n",
            "Estado atual: 2\n",
            "Buzina = 1, Luz Vermelha = 1\n",
            "Reset: 1\n",
            "Estado atual: 0\n",
            "Botao: 1\n",
            "Estado atual: 1\n",
            "Sensor da porta: 1\n",
            "Estado atual: 2\n",
            "Buzina = 1, Luz Vermelha = 1\n",
            "Reset: 0\n",
            "Estado atual: 2\n",
            "Botao: 1\n",
            "Estado atual: 0\n",
            "Sensor da porta: -1\n"
          ]
        }
      ]
    }
  ]
}